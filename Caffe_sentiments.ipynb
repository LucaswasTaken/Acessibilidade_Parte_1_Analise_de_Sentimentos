{
  "nbformat": 4,
  "nbformat_minor": 0,
  "metadata": {
    "colab": {
      "name": "Caffe_sentiments.ipynb",
      "provenance": [],
      "collapsed_sections": []
    },
    "kernelspec": {
      "name": "python3",
      "display_name": "Python 3"
    },
    "accelerator": "GPU"
  },
  "cells": [
    {
      "cell_type": "markdown",
      "metadata": {
        "id": "Hgz7QD90MKkT"
      },
      "source": [
        "# A primeira linha apresenta a instalação do caffe. Como estamos dentro de um Jupyter notebook, é possivel ser necessário a reinicialização do mesmo antes de utilizar o pacote."
      ]
    },
    {
      "cell_type": "code",
      "metadata": {
        "id": "E9FwPcUFIQi3"
      },
      "source": [
        "!sudo apt install caffe-cpu"
      ],
      "execution_count": null,
      "outputs": []
    },
    {
      "cell_type": "code",
      "metadata": {
        "id": "pVjfpuqvJBDC"
      },
      "source": [
        "import caffe"
      ],
      "execution_count": 1,
      "outputs": []
    },
    {
      "cell_type": "markdown",
      "metadata": {
        "id": "kCgE6e5YOWWa"
      },
      "source": [
        "A partir daqui apresentamos os bancos de dados utilizados para análise de sentimentos. O objetivo final é o treinamento de um classificador que pode ser utilizado em qualquer idioma, mas inicialmente focado para o português."
      ]
    },
    {
      "cell_type": "code",
      "metadata": {
        "id": "_ecevzW8LmMS"
      },
      "source": [
        ""
      ],
      "execution_count": null,
      "outputs": []
    }
  ]
}