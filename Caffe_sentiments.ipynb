{
  "nbformat": 4,
  "nbformat_minor": 0,
  "metadata": {
    "colab": {
      "name": "Caffe_sentiments.ipynb",
      "provenance": [],
      "collapsed_sections": [],
      "toc_visible": true
    },
    "kernelspec": {
      "name": "python3",
      "display_name": "Python 3"
    },
    "accelerator": "GPU"
  },
  "cells": [
    {
      "cell_type": "markdown",
      "metadata": {
        "id": "Hgz7QD90MKkT"
      },
      "source": [
        "# A primeira linha apresenta a instalação do caffe. Como estamos dentro de um Jupyter notebook, é possivel ser necessário a reinicialização do mesmo antes de utilizar o pacote."
      ]
    },
    {
      "cell_type": "code",
      "metadata": {
        "id": "E9FwPcUFIQi3"
      },
      "source": [
        "!sudo apt install caffe-cpu"
      ],
      "execution_count": null,
      "outputs": []
    },
    {
      "cell_type": "code",
      "metadata": {
        "id": "pVjfpuqvJBDC"
      },
      "source": [
        "import caffe"
      ],
      "execution_count": 1,
      "outputs": []
    },
    {
      "cell_type": "markdown",
      "metadata": {
        "id": "kCgE6e5YOWWa"
      },
      "source": [
        "# A partir daqui apresentamos os bancos de dados utilizados para análise de sentimentos. O objetivo final é o treinamento de um classificador que pode ser utilizado em qualquer idioma, mas inicialmente focado para o português. O repositório correspondente a essa implementação é  clonado do github para utilização do dataset contido no arquivo \".csv\" através da biblioteca Pandas."
      ]
    },
    {
      "cell_type": "code",
      "metadata": {
        "id": "_ecevzW8LmMS",
        "outputId": "96793912-04d3-4752-9611-07145fc4c074",
        "colab": {
          "base_uri": "https://localhost:8080/",
          "height": 121
        }
      },
      "source": [
        "!git clone https://github.com/LucaswasTaken/Caffe_Analise_de_Sentimentos.git"
      ],
      "execution_count": 3,
      "outputs": [
        {
          "output_type": "stream",
          "text": [
            "Cloning into 'Caffe_Analise_de_Sentimentos'...\n",
            "remote: Enumerating objects: 37, done.\u001b[K\n",
            "remote: Counting objects: 100% (37/37), done.\u001b[K\n",
            "remote: Compressing objects: 100% (37/37), done.\u001b[K\n",
            "remote: Total 37 (delta 17), reused 0 (delta 0), pack-reused 0\u001b[K\n",
            "Unpacking objects: 100% (37/37), done.\n"
          ],
          "name": "stdout"
        }
      ]
    },
    {
      "cell_type": "code",
      "metadata": {
        "id": "goEp4xZ4YDHK"
      },
      "source": [
        "import pandas as pd"
      ],
      "execution_count": 4,
      "outputs": []
    },
    {
      "cell_type": "code",
      "metadata": {
        "id": "4k9WKkdqYFVV"
      },
      "source": [
        "data = pd.read_csv('/content/Caffe_Analise_de_Sentimentos/dataset_sentimentos.csv', sep=';')"
      ],
      "execution_count": 5,
      "outputs": []
    },
    {
      "cell_type": "code",
      "metadata": {
        "id": "l9kCOYCXYKoU",
        "outputId": "0b95499a-3c1a-4fde-ebee-1ebc593606d6",
        "colab": {
          "base_uri": "https://localhost:8080/",
          "height": 415
        }
      },
      "source": [
        "data"
      ],
      "execution_count": 6,
      "outputs": [
        {
          "output_type": "execute_result",
          "data": {
            "text/html": [
              "<div>\n",
              "<style scoped>\n",
              "    .dataframe tbody tr th:only-of-type {\n",
              "        vertical-align: middle;\n",
              "    }\n",
              "\n",
              "    .dataframe tbody tr th {\n",
              "        vertical-align: top;\n",
              "    }\n",
              "\n",
              "    .dataframe thead th {\n",
              "        text-align: right;\n",
              "    }\n",
              "</style>\n",
              "<table border=\"1\" class=\"dataframe\">\n",
              "  <thead>\n",
              "    <tr style=\"text-align: right;\">\n",
              "      <th></th>\n",
              "      <th>Frase,Sentimento</th>\n",
              "    </tr>\n",
              "  </thead>\n",
              "  <tbody>\n",
              "    <tr>\n",
              "      <th>não precisei pagar o ingresso</th>\n",
              "      <td>alegria</td>\n",
              "    </tr>\n",
              "    <tr>\n",
              "      <th>se eu ajeitar tudo fica bem</th>\n",
              "      <td>alegria</td>\n",
              "    </tr>\n",
              "    <tr>\n",
              "      <th>minha fortuna ultrapassa a sua</th>\n",
              "      <td>alegria</td>\n",
              "    </tr>\n",
              "    <tr>\n",
              "      <th>sou muito afortunado</th>\n",
              "      <td>alegria</td>\n",
              "    </tr>\n",
              "    <tr>\n",
              "      <th>e benefico para todos esta nova medida</th>\n",
              "      <td>alegria</td>\n",
              "    </tr>\n",
              "    <tr>\n",
              "      <th>...</th>\n",
              "      <td>...</td>\n",
              "    </tr>\n",
              "    <tr>\n",
              "      <th>acho que isso e defeituoso</th>\n",
              "      <td>tristeza</td>\n",
              "    </tr>\n",
              "    <tr>\n",
              "      <th>os remedios me derrubam na cama</th>\n",
              "      <td>tristeza</td>\n",
              "    </tr>\n",
              "    <tr>\n",
              "      <th>a depressão vai me derrubar</th>\n",
              "      <td>tristeza</td>\n",
              "    </tr>\n",
              "    <tr>\n",
              "      <th>suas desculpas são falsas</th>\n",
              "      <td>tristeza</td>\n",
              "    </tr>\n",
              "    <tr>\n",
              "      <th>não magoe as pessoas</th>\n",
              "      <td>tristeza</td>\n",
              "    </tr>\n",
              "  </tbody>\n",
              "</table>\n",
              "<p>128 rows × 1 columns</p>\n",
              "</div>"
            ],
            "text/plain": [
              "                                       Frase,Sentimento\n",
              "não precisei pagar o ingresso                   alegria\n",
              "se eu ajeitar tudo fica bem                     alegria\n",
              "minha fortuna ultrapassa a sua                  alegria\n",
              "sou muito afortunado                            alegria\n",
              "e benefico para todos esta nova medida          alegria\n",
              "...                                                 ...\n",
              "acho que isso e defeituoso                     tristeza\n",
              "os remedios me derrubam na cama                tristeza\n",
              "a depressão vai me derrubar                    tristeza\n",
              "suas desculpas são falsas                      tristeza\n",
              "não magoe as pessoas                           tristeza\n",
              "\n",
              "[128 rows x 1 columns]"
            ]
          },
          "metadata": {
            "tags": []
          },
          "execution_count": 6
        }
      ]
    },
    {
      "cell_type": "markdown",
      "metadata": {
        "id": "O5lmTpBabCMW"
      },
      "source": [
        "# Preprocessamento do texto: antes de definir e treinar uma rede classificatória utilizando o Caffe, primeiramente alguns tratamentos nos textos são feitos utilizando a biblioteca nltk. Tratamentos esses que incluem: remoção de números, remoção de letras maiusculas, remoção de stop-words (palavras mais comuns da lingua) e tokenização. A tokenização, em particular, pode ser feita de diversas formas. Focaremos na avaliação da mesma utilizando os métodos  term frequency–inverse document frequency (TF-IDF) e countvectorizer."
      ]
    },
    {
      "cell_type": "code",
      "metadata": {
        "id": "UbTIRVUkaedw"
      },
      "source": [
        ""
      ],
      "execution_count": null,
      "outputs": []
    }
  ]
}